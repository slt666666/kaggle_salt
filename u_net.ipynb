{
  "nbformat": 4,
  "nbformat_minor": 0,
  "metadata": {
    "colab": {
      "name": "u_net.ipynb",
      "version": "0.3.2",
      "provenance": [],
      "include_colab_link": true
    },
    "kernelspec": {
      "name": "python3",
      "display_name": "Python 3"
    },
    "accelerator": "GPU"
  },
  "cells": [
    {
      "cell_type": "markdown",
      "metadata": {
        "id": "view-in-github",
        "colab_type": "text"
      },
      "source": [
        "[View in Colaboratory](https://colab.research.google.com/github/slt666666/kaggle_salt/blob/master/u_net.ipynb)"
      ]
    },
    {
      "metadata": {
        "id": "XsZK-qw1Ti7i",
        "colab_type": "code",
        "colab": {}
      },
      "cell_type": "code",
      "source": [
        "!pip install -U -q PyDrive"
      ],
      "execution_count": 0,
      "outputs": []
    },
    {
      "metadata": {
        "id": "EsEtAna6Z3U1",
        "colab_type": "code",
        "colab": {}
      },
      "cell_type": "code",
      "source": [
        "from pydrive.auth import GoogleAuth\n",
        "from pydrive.drive import GoogleDrive\n",
        "from google.colab import auth\n",
        "from oauth2client.client import GoogleCredentials"
      ],
      "execution_count": 0,
      "outputs": []
    },
    {
      "metadata": {
        "id": "KrIxmoM8aAdO",
        "colab_type": "code",
        "colab": {}
      },
      "cell_type": "code",
      "source": [
        "auth.authenticate_user()\n",
        "gauth = GoogleAuth()\n",
        "gauth.credentials = GoogleCredentials.get_application_default()\n",
        "drive = GoogleDrive(gauth)"
      ],
      "execution_count": 0,
      "outputs": []
    },
    {
      "metadata": {
        "id": "6bex-q3eaDQt",
        "colab_type": "code",
        "colab": {}
      },
      "cell_type": "code",
      "source": [
        "id = '1WSWCQ_VIB1VK6PEQKcir-GwTI4VZVM6g'\n",
        "downloaded = drive.CreateFile({'id': id})\n",
        "downloaded.GetContentFile('input.zip')"
      ],
      "execution_count": 0,
      "outputs": []
    },
    {
      "metadata": {
        "id": "Ek4S8z1tdPIS",
        "colab_type": "code",
        "colab": {}
      },
      "cell_type": "code",
      "source": [
        "import os\n",
        "import sys\n",
        "import random\n",
        "\n",
        "import pandas as pd\n",
        "import numpy as np\n",
        "import matplotlib.pyplot as plt\n",
        "plt.style.use('seaborn-white')\n",
        "import seaborn as sns\n",
        "sns.set_style(\"white\")\n",
        "\n",
        "%matplotlib inline\n",
        "\n",
        "# import cv2\n",
        "from sklearn.model_selection import train_test_split\n",
        "\n",
        "from tqdm import tqdm_notebook, tnrange, tqdm\n",
        "from itertools import chain\n",
        "from skimage.io import imread, imshow, concatenate_images\n",
        "from skimage.transform import resize\n",
        "from skimage.morphology import label\n",
        "\n",
        "from keras.models import Model, load_model\n",
        "from keras.layers import Input,Dropout,BatchNormalization,Activation,Add\n",
        "from keras.layers.core import Lambda\n",
        "from keras.layers.convolutional import Conv2D, Conv2DTranspose\n",
        "from keras.layers.pooling import MaxPooling2D\n",
        "from keras.layers.merge import concatenate\n",
        "from keras.callbacks import EarlyStopping, ModelCheckpoint, ReduceLROnPlateau\n",
        "from keras import backend as K\n",
        "\n",
        "import tensorflow as tf\n",
        "\n",
        "from keras.preprocessing.image import ImageDataGenerator, array_to_img, img_to_array, load_img#,save_img"
      ],
      "execution_count": 0,
      "outputs": []
    },
    {
      "metadata": {
        "id": "U2nB2KL2es_n",
        "colab_type": "code",
        "colab": {}
      },
      "cell_type": "code",
      "source": [
        "# Set some parameters\n",
        "img_size_ori = 101\n",
        "img_size_target = 101\n",
        "im_width = 101\n",
        "im_height = 101\n",
        "im_chan = 1\n",
        "basicpath = 'input/'\n",
        "path_train = basicpath + 'train/'\n",
        "path_test = basicpath + 'test/'\n",
        "\n",
        "path_train_images = path_train + 'images/'\n",
        "path_train_masks = path_train + 'masks/'\n",
        "path_test_images = path_test + 'images/'"
      ],
      "execution_count": 0,
      "outputs": []
    },
    {
      "metadata": {
        "id": "byR6owjQewLD",
        "colab_type": "code",
        "colab": {
          "base_uri": "https://localhost:8080/",
          "height": 34
        },
        "outputId": "fddc9463-3292-49a5-a383-d9d43b2c710e"
      },
      "cell_type": "code",
      "source": [
        "# Loading of training/testing ids and depths\n",
        "\n",
        "train_df = pd.read_csv(\"input/train.csv\", index_col=\"id\", usecols=[0])\n",
        "depths_df = pd.read_csv(\"input/depths.csv\", index_col=\"id\")\n",
        "train_df = train_df.join(depths_df)\n",
        "test_df = depths_df[~depths_df.index.isin(train_df.index)]\n",
        "\n",
        "len(train_df)"
      ],
      "execution_count": 36,
      "outputs": [
        {
          "output_type": "execute_result",
          "data": {
            "text/plain": [
              "4000"
            ]
          },
          "metadata": {
            "tags": []
          },
          "execution_count": 36
        }
      ]
    },
    {
      "metadata": {
        "id": "IXwx9iSgeyvd",
        "colab_type": "code",
        "colab": {
          "base_uri": "https://localhost:8080/",
          "height": 34
        },
        "outputId": "47d0b171-fc6b-4ceb-bfcb-b32231683c8d"
      },
      "cell_type": "code",
      "source": [
        "train_df[\"images\"] = [np.array(load_img(\"input/train/images/{}.png\".format(idx), grayscale=True)) / 255 for idx in tqdm(train_df.index)]"
      ],
      "execution_count": 37,
      "outputs": [
        {
          "output_type": "stream",
          "text": [
            "100%|██████████| 4000/4000 [00:03<00:00, 1123.39it/s]\n"
          ],
          "name": "stderr"
        }
      ]
    },
    {
      "metadata": {
        "id": "2rmCsBSDe6Aw",
        "colab_type": "code",
        "colab": {
          "base_uri": "https://localhost:8080/",
          "height": 34
        },
        "outputId": "8fde3a98-626a-4a2f-d84e-7a8d67fbec13"
      },
      "cell_type": "code",
      "source": [
        "train_df[\"masks\"] = [np.array(load_img(\"input/train/masks/{}.png\".format(idx), grayscale=True)) / 255 for idx in tqdm(train_df.index)]"
      ],
      "execution_count": 38,
      "outputs": [
        {
          "output_type": "stream",
          "text": [
            "100%|██████████| 4000/4000 [00:02<00:00, 1850.69it/s]\n"
          ],
          "name": "stderr"
        }
      ]
    },
    {
      "metadata": {
        "id": "2DhhtkFLgA3t",
        "colab_type": "code",
        "colab": {}
      },
      "cell_type": "code",
      "source": [
        "train_df[\"coverage\"] = train_df.masks.map(np.sum) / pow(img_size_ori, 2)\n",
        "\n",
        "def cov_to_class(val):    \n",
        "    for i in range(0, 11):\n",
        "        if val * 10 <= i :\n",
        "            return i\n",
        "        \n",
        "train_df[\"coverage_class\"] = train_df.coverage.map(cov_to_class)"
      ],
      "execution_count": 0,
      "outputs": []
    },
    {
      "metadata": {
        "id": "mwj_-xqYgHv1",
        "colab_type": "code",
        "colab": {
          "base_uri": "https://localhost:8080/",
          "height": 387
        },
        "outputId": "367d2978-c48b-478b-99d9-9d66b82931bb"
      },
      "cell_type": "code",
      "source": [
        "fig, axs = plt.subplots(1, 2, figsize=(15,5))\n",
        "sns.distplot(train_df.coverage, kde=False, ax=axs[0])\n",
        "sns.distplot(train_df.coverage_class, bins=10, kde=False, ax=axs[1])\n",
        "plt.suptitle(\"Salt coverage\")\n",
        "axs[0].set_xlabel(\"Coverage\")\n",
        "axs[1].set_xlabel(\"Coverage class\")"
      ],
      "execution_count": 40,
      "outputs": [
        {
          "output_type": "execute_result",
          "data": {
            "text/plain": [
              "Text(0.5,0,'Coverage class')"
            ]
          },
          "metadata": {
            "tags": []
          },
          "execution_count": 40
        },
        {
          "output_type": "display_data",
          "data": {
            "image/png": "[encoded data removed]",
            "text/plain": [
              "<matplotlib.figure.Figure at 0x7f2b92b560f0>"
            ]
          },
          "metadata": {
            "tags": []
          }
        }
      ]
    },
    {
      "metadata": {
        "id": "0cPiEpjCgKtv",
        "colab_type": "code",
        "colab": {
          "base_uri": "https://localhost:8080/",
          "height": 311
        },
        "outputId": "3b2748ba-66e1-40b9-8c2a-920b24b9ad34"
      },
      "cell_type": "code",
      "source": [
        "#Plotting the depth distributions¶\n",
        "\n",
        "sns.distplot(train_df.z, label=\"Train\")\n",
        "sns.distplot(test_df.z, label=\"Test\")\n",
        "plt.legend()\n",
        "plt.title(\"Depth distribution\")"
      ],
      "execution_count": 41,
      "outputs": [
        {
          "output_type": "execute_result",
          "data": {
            "text/plain": [
              "Text(0.5,1,'Depth distribution')"
            ]
          },
          "metadata": {
            "tags": []
          },
          "execution_count": 41
        },
        {
          "output_type": "display_data",
          "data": {
            "image/png": "[encoded data removed]",
            "text/plain": [
              "<matplotlib.figure.Figure at 0x7f2baa5e8390>"
            ]
          },
          "metadata": {
            "tags": []
          }
        }
      ]
    },
    {
      "metadata": {
        "id": "1RPfsngXgNMv",
        "colab_type": "code",
        "colab": {}
      },
      "cell_type": "code",
      "source": [
        "# Create train/validation split stratified by salt coverage\n",
        "\n",
        "ids_train, ids_valid, x_train, x_valid, y_train, y_valid, cov_train, cov_test, depth_train, depth_test = train_test_split(\n",
        "    train_df.index.values,\n",
        "    np.array(train_df.images.tolist()).reshape(-1, img_size_target, img_size_target, 1), \n",
        "    np.array(train_df.masks.tolist()).reshape(-1, img_size_target, img_size_target, 1), \n",
        "    train_df.coverage.values,\n",
        "    train_df.z.values,\n",
        "    test_size=0.2, stratify=train_df.coverage_class, random_state= 1024)"
      ],
      "execution_count": 0,
      "outputs": []
    },
    {
      "metadata": {
        "id": "AYr8E9JFgQZ_",
        "colab_type": "code",
        "colab": {}
      },
      "cell_type": "code",
      "source": [
        "ACTIVATION = \"relu\"\n",
        "\n",
        "def convolution_block(x, filters, size, strides=(1,1), padding='same', activation=True):\n",
        "    x = Conv2D(filters, size, strides=strides, padding=padding)(x)\n",
        "    x = BatchNormalization()(x)\n",
        "    if activation == True:\n",
        "        x = Activation(ACTIVATION)(x)\n",
        "    return x\n",
        "\n",
        "def residual_block(blockInput, num_filters=16):\n",
        "    x = Activation(ACTIVATION)(blockInput)\n",
        "    x = BatchNormalization()(x)\n",
        "    x = convolution_block(x, num_filters, (3,3) )\n",
        "    x = convolution_block(x, num_filters, (3,3), activation=False)\n",
        "    x = Add()([x, blockInput])\n",
        "    return x"
      ],
      "execution_count": 0,
      "outputs": []
    },
    {
      "metadata": {
        "id": "4dPDQIvQgSw9",
        "colab_type": "code",
        "colab": {}
      },
      "cell_type": "code",
      "source": [
        "# Build model\n",
        "def build_model(input_layer, start_neurons, DropoutRatio = 0.5):\n",
        "    # 101 -> 50\n",
        "    conv1 = Conv2D(start_neurons * 1, (3, 3), activation=None, padding=\"same\")(input_layer)\n",
        "    conv1 = residual_block(conv1,start_neurons * 1)\n",
        "    conv1 = residual_block(conv1,start_neurons * 1)\n",
        "    conv1 = Activation(ACTIVATION)(conv1)\n",
        "    pool1 = MaxPooling2D((2, 2))(conv1)\n",
        "    pool1 = Dropout(DropoutRatio/2)(pool1)\n",
        "\n",
        "    # 50 -> 25\n",
        "    conv2 = Conv2D(start_neurons * 2, (3, 3), activation=None, padding=\"same\")(pool1)\n",
        "    conv2 = residual_block(conv2,start_neurons * 2)\n",
        "    conv2 = residual_block(conv2,start_neurons * 2)\n",
        "    conv2 = Activation(ACTIVATION)(conv2)\n",
        "    pool2 = MaxPooling2D((2, 2))(conv2)\n",
        "    pool2 = Dropout(DropoutRatio)(pool2)\n",
        "\n",
        "    # 25 -> 12\n",
        "    conv3 = Conv2D(start_neurons * 4, (3, 3), activation=None, padding=\"same\")(pool2)\n",
        "    conv3 = residual_block(conv3,start_neurons * 4)\n",
        "    conv3 = residual_block(conv3,start_neurons * 4)\n",
        "    conv3 = Activation(ACTIVATION)(conv3)\n",
        "    pool3 = MaxPooling2D((2, 2))(conv3)\n",
        "    pool3 = Dropout(DropoutRatio)(pool3)\n",
        "\n",
        "    # 12 -> 6\n",
        "    conv4 = Conv2D(start_neurons * 8, (3, 3), activation=None, padding=\"same\")(pool3)\n",
        "    conv4 = residual_block(conv4,start_neurons * 8)\n",
        "    conv4 = residual_block(conv4,start_neurons * 8)\n",
        "    conv4 = Activation(ACTIVATION)(conv4)\n",
        "    pool4 = MaxPooling2D((2, 2))(conv4)\n",
        "    pool4 = Dropout(DropoutRatio)(pool4)\n",
        "\n",
        "    # Middle\n",
        "    convm = Conv2D(start_neurons * 16, (3, 3), activation=None, padding=\"same\")(pool4)\n",
        "    convm = residual_block(convm,start_neurons * 16)\n",
        "    convm = residual_block(convm,start_neurons * 16)\n",
        "    convm = Activation(ACTIVATION)(convm)\n",
        "    \n",
        "    # 6 -> 12\n",
        "    deconv4 = Conv2DTranspose(start_neurons * 8, (3, 3), strides=(2, 2), padding=\"same\")(convm)\n",
        "    uconv4 = concatenate([deconv4, conv4])\n",
        "    uconv4 = Dropout(DropoutRatio)(uconv4)\n",
        "    \n",
        "    uconv4 = Conv2D(start_neurons * 8, (3, 3), activation=None, padding=\"same\")(uconv4)\n",
        "    uconv4 = residual_block(uconv4,start_neurons * 8)\n",
        "    uconv4 = residual_block(uconv4,start_neurons * 8)\n",
        "    uconv4 = Activation(ACTIVATION)(uconv4)\n",
        "    \n",
        "    # 12 -> 25\n",
        "    #deconv3 = Conv2DTranspose(start_neurons * 4, (3, 3), strides=(2, 2), padding=\"same\")(uconv4)\n",
        "    deconv3 = Conv2DTranspose(start_neurons * 4, (3, 3), strides=(2, 2), padding=\"valid\")(uconv4)\n",
        "    uconv3 = concatenate([deconv3, conv3])    \n",
        "    uconv3 = Dropout(DropoutRatio)(uconv3)\n",
        "    \n",
        "    uconv3 = Conv2D(start_neurons * 4, (3, 3), activation=None, padding=\"same\")(uconv3)\n",
        "    uconv3 = residual_block(uconv3,start_neurons * 4)\n",
        "    uconv3 = residual_block(uconv3,start_neurons * 4)\n",
        "    uconv3 = Activation(ACTIVATION)(uconv3)\n",
        "\n",
        "    # 25 -> 50\n",
        "    deconv2 = Conv2DTranspose(start_neurons * 2, (3, 3), strides=(2, 2), padding=\"same\")(uconv3)\n",
        "    uconv2 = concatenate([deconv2, conv2])\n",
        "        \n",
        "    uconv2 = Dropout(DropoutRatio)(uconv2)\n",
        "    uconv2 = Conv2D(start_neurons * 2, (3, 3), activation=None, padding=\"same\")(uconv2)\n",
        "    uconv2 = residual_block(uconv2,start_neurons * 2)\n",
        "    uconv2 = residual_block(uconv2,start_neurons * 2)\n",
        "    uconv2 = Activation(ACTIVATION)(uconv2)\n",
        "    \n",
        "    # 50 -> 101\n",
        "    #deconv1 = Conv2DTranspose(start_neurons * 1, (3, 3), strides=(2, 2), padding=\"same\")(uconv2)\n",
        "    deconv1 = Conv2DTranspose(start_neurons * 1, (3, 3), strides=(2, 2), padding=\"valid\")(uconv2)\n",
        "    uconv1 = concatenate([deconv1, conv1])\n",
        "    \n",
        "    uconv1 = Dropout(DropoutRatio)(uconv1)\n",
        "    uconv1 = Conv2D(start_neurons * 1, (3, 3), activation=None, padding=\"same\")(uconv1)\n",
        "    uconv1 = residual_block(uconv1,start_neurons * 1)\n",
        "    uconv1 = residual_block(uconv1,start_neurons * 1)\n",
        "    uconv1 = Activation(ACTIVATION)(uconv1)\n",
        "    \n",
        "    uconv1 = Dropout(DropoutRatio/2)(uconv1)\n",
        "    output_layer = Conv2D(1, (1,1), padding=\"same\", activation=\"sigmoid\")(uconv1)\n",
        "    \n",
        "    return output_layer\n"
      ],
      "execution_count": 0,
      "outputs": []
    },
    {
      "metadata": {
        "id": "AZq5EdthgZa7",
        "colab_type": "code",
        "colab": {}
      },
      "cell_type": "code",
      "source": [
        "iou_thresholds = np.array([0.5, 0.55, 0.6, 0.65, 0.7, 0.75, 0.8, 0.85, 0.9, 0.95])\n",
        "\n",
        "def iou(img_true, img_pred):\n",
        "    i = np.sum((img_true*img_pred) >0)\n",
        "    u = np.sum((img_true + img_pred) >0)\n",
        "    if u == 0:\n",
        "        return u\n",
        "    return i/u\n",
        "\n",
        "def iou_metric(imgs_true, imgs_pred):\n",
        "    num_images = len(imgs_true)\n",
        "    scores = np.zeros(num_images)\n",
        "    \n",
        "    for i in range(num_images):\n",
        "        if imgs_true[i].sum() == imgs_pred[i].sum() == 0:\n",
        "            scores[i] = 1\n",
        "        else:\n",
        "            scores[i] = (iou_thresholds <= iou(imgs_true[i], imgs_pred[i])).mean()\n",
        "            \n",
        "    return scores.mean()"
      ],
      "execution_count": 0,
      "outputs": []
    },
    {
      "metadata": {
        "id": "dVEiVffPgcd4",
        "colab_type": "code",
        "colab": {
          "base_uri": "https://localhost:8080/",
          "height": 51
        },
        "outputId": "d09d984a-25e2-44a1-dc59-06982a389891"
      },
      "cell_type": "code",
      "source": [
        "#Data augmentation\n",
        "x_train = np.append(x_train, [np.fliplr(x) for x in x_train], axis=0)\n",
        "y_train = np.append(y_train, [np.fliplr(x) for x in y_train], axis=0)\n",
        "print(x_train.shape)\n",
        "print(y_valid.shape)"
      ],
      "execution_count": 46,
      "outputs": [
        {
          "output_type": "stream",
          "text": [
            "(6400, 101, 101, 1)\n",
            "(800, 101, 101, 1)\n"
          ],
          "name": "stdout"
        }
      ]
    },
    {
      "metadata": {
        "id": "h9xwYQNbgeff",
        "colab_type": "code",
        "colab": {}
      },
      "cell_type": "code",
      "source": [
        "# model\n",
        "input_layer = Input((img_size_target, img_size_target, 1))\n",
        "output_layer = build_model(input_layer, 16,0.5)\n",
        "\n",
        "model = Model(input_layer, output_layer)\n",
        "model.compile(loss=\"binary_crossentropy\", optimizer=\"adam\", metrics=[\"acc\"])"
      ],
      "execution_count": 0,
      "outputs": []
    },
    {
      "metadata": {
        "id": "CdFXb8CPghM_",
        "colab_type": "code",
        "colab": {
          "base_uri": "https://localhost:8080/",
          "height": 4165
        },
        "outputId": "ac0e62da-8686-41f0-a3b3-c131b6b5ec83"
      },
      "cell_type": "code",
      "source": [
        "early_stopping = EarlyStopping(monitor='val_acc', mode = 'max',patience=20, verbose=1)\n",
        "model_checkpoint = ModelCheckpoint(\"./unet_best1.model\",monitor='val_acc', \n",
        "                                   mode = 'max', save_best_only=True, verbose=1)\n",
        "reduce_lr = ReduceLROnPlateau(monitor='val_acc', mode = 'max',factor=0.2, patience=5, min_lr=0.00001, verbose=1)\n",
        "#reduce_lr = ReduceLROnPlateau(factor=0.2, patience=5, min_lr=0.00001, verbose=1)\n",
        "\n",
        "epochs = 200\n",
        "batch_size = 32\n",
        "\n",
        "history = model.fit(x_train, y_train,\n",
        "                    validation_data=[x_valid, y_valid], \n",
        "                    epochs=epochs,\n",
        "                    batch_size=batch_size,\n",
        "                    callbacks=[early_stopping, model_checkpoint, reduce_lr], \n",
        "                    verbose=1)"
      ],
      "execution_count": 48,
      "outputs": [
        {
          "output_type": "stream",
          "text": [
            "Train on 6400 samples, validate on 800 samples\n",
            "Epoch 1/200\n",
            "6400/6400 [==============================] - 125s 20ms/step - loss: 0.3880 - acc: 0.8453 - val_loss: 0.6507 - val_acc: 0.7469\n",
            "\n",
            "Epoch 00001: val_acc improved from -inf to 0.74688, saving model to ./unet_best1.model\n",
            "Epoch 2/200\n",
            "6400/6400 [==============================] - 109s 17ms/step - loss: 0.2747 - acc: 0.9005 - val_loss: 0.5702 - val_acc: 0.7590\n",
            "\n",
            "Epoch 00002: val_acc improved from 0.74688 to 0.75899, saving model to ./unet_best1.model\n",
            "Epoch 3/200\n",
            "6400/6400 [==============================] - 108s 17ms/step - loss: 0.2445 - acc: 0.9090 - val_loss: 0.2606 - val_acc: 0.9077\n",
            "\n",
            "Epoch 00003: val_acc improved from 0.75899 to 0.90772, saving model to ./unet_best1.model\n",
            "Epoch 4/200\n",
            "6400/6400 [==============================] - 108s 17ms/step - loss: 0.2307 - acc: 0.9148 - val_loss: 0.2305 - val_acc: 0.9127\n",
            "\n",
            "Epoch 00004: val_acc improved from 0.90772 to 0.91268, saving model to ./unet_best1.model\n",
            "Epoch 5/200\n",
            "6400/6400 [==============================] - 108s 17ms/step - loss: 0.2145 - acc: 0.9214 - val_loss: 0.2305 - val_acc: 0.9092\n",
            "\n",
            "Epoch 00005: val_acc did not improve from 0.91268\n",
            "Epoch 6/200\n",
            "6400/6400 [==============================] - 108s 17ms/step - loss: 0.1957 - acc: 0.9279 - val_loss: 0.2901 - val_acc: 0.9011\n",
            "\n",
            "Epoch 00006: val_acc did not improve from 0.91268\n",
            "Epoch 7/200\n",
            "6400/6400 [==============================] - 108s 17ms/step - loss: 0.1947 - acc: 0.9281 - val_loss: 0.2091 - val_acc: 0.9257\n",
            "\n",
            "Epoch 00007: val_acc improved from 0.91268 to 0.92568, saving model to ./unet_best1.model\n",
            "Epoch 8/200\n",
            "6400/6400 [==============================] - 108s 17ms/step - loss: 0.1823 - acc: 0.9323 - val_loss: 0.1677 - val_acc: 0.9346\n",
            "\n",
            "Epoch 00008: val_acc improved from 0.92568 to 0.93464, saving model to ./unet_best1.model\n",
            "Epoch 9/200\n",
            "6400/6400 [==============================] - 108s 17ms/step - loss: 0.1767 - acc: 0.9357 - val_loss: 0.2180 - val_acc: 0.9266\n",
            "\n",
            "Epoch 00009: val_acc did not improve from 0.93464\n",
            "Epoch 10/200\n",
            "6400/6400 [==============================] - 108s 17ms/step - loss: 0.1701 - acc: 0.9369 - val_loss: 0.1627 - val_acc: 0.9386\n",
            "\n",
            "Epoch 00010: val_acc improved from 0.93464 to 0.93862, saving model to ./unet_best1.model\n",
            "Epoch 11/200\n",
            "6400/6400 [==============================] - 108s 17ms/step - loss: 0.1651 - acc: 0.9386 - val_loss: 0.1611 - val_acc: 0.9363\n",
            "\n",
            "Epoch 00011: val_acc did not improve from 0.93862\n",
            "Epoch 12/200\n",
            "6400/6400 [==============================] - 108s 17ms/step - loss: 0.1616 - acc: 0.9408 - val_loss: 0.1451 - val_acc: 0.9440\n",
            "\n",
            "Epoch 00012: val_acc improved from 0.93862 to 0.94404, saving model to ./unet_best1.model\n",
            "Epoch 13/200\n",
            "6400/6400 [==============================] - 108s 17ms/step - loss: 0.1565 - acc: 0.9421 - val_loss: 0.1769 - val_acc: 0.9328\n",
            "\n",
            "Epoch 00013: val_acc did not improve from 0.94404\n",
            "Epoch 14/200\n",
            "6400/6400 [==============================] - 108s 17ms/step - loss: 0.1551 - acc: 0.9425 - val_loss: 0.2664 - val_acc: 0.9042\n",
            "\n",
            "Epoch 00014: val_acc did not improve from 0.94404\n",
            "Epoch 15/200\n",
            "6400/6400 [==============================] - 107s 17ms/step - loss: 0.1542 - acc: 0.9423 - val_loss: 0.1515 - val_acc: 0.9426\n",
            "\n",
            "Epoch 00015: val_acc did not improve from 0.94404\n",
            "Epoch 16/200\n",
            "6400/6400 [==============================] - 108s 17ms/step - loss: 0.1457 - acc: 0.9457 - val_loss: 0.1583 - val_acc: 0.9452\n",
            "\n",
            "Epoch 00016: val_acc improved from 0.94404 to 0.94517, saving model to ./unet_best1.model\n",
            "Epoch 17/200\n",
            "6400/6400 [==============================] - 108s 17ms/step - loss: 0.1435 - acc: 0.9473 - val_loss: 0.1623 - val_acc: 0.9406\n",
            "\n",
            "Epoch 00017: val_acc did not improve from 0.94517\n",
            "Epoch 18/200\n",
            "6400/6400 [==============================] - 108s 17ms/step - loss: 0.1391 - acc: 0.9485 - val_loss: 0.1544 - val_acc: 0.9414\n",
            "\n",
            "Epoch 00018: val_acc did not improve from 0.94517\n",
            "Epoch 19/200\n",
            "6400/6400 [==============================] - 108s 17ms/step - loss: 0.1435 - acc: 0.9452 - val_loss: 0.1658 - val_acc: 0.9450\n",
            "\n",
            "Epoch 00019: val_acc did not improve from 0.94517\n",
            "Epoch 20/200\n",
            "6400/6400 [==============================] - 108s 17ms/step - loss: 0.1364 - acc: 0.9501 - val_loss: 0.1557 - val_acc: 0.9440\n",
            "\n",
            "Epoch 00020: val_acc did not improve from 0.94517\n",
            "Epoch 21/200\n",
            "6400/6400 [==============================] - 108s 17ms/step - loss: 0.1312 - acc: 0.9521 - val_loss: 0.1742 - val_acc: 0.9394\n",
            "\n",
            "Epoch 00021: val_acc did not improve from 0.94517\n",
            "\n",
            "Epoch 00021: ReduceLROnPlateau reducing learning rate to 0.00020000000949949026.\n",
            "Epoch 22/200\n",
            "6400/6400 [==============================] - 108s 17ms/step - loss: 0.1158 - acc: 0.9568 - val_loss: 0.1397 - val_acc: 0.9475\n",
            "\n",
            "Epoch 00022: val_acc improved from 0.94517 to 0.94747, saving model to ./unet_best1.model\n",
            "Epoch 23/200\n",
            "6400/6400 [==============================] - 108s 17ms/step - loss: 0.1107 - acc: 0.9595 - val_loss: 0.1418 - val_acc: 0.9492\n",
            "\n",
            "Epoch 00023: val_acc improved from 0.94747 to 0.94918, saving model to ./unet_best1.model\n",
            "Epoch 24/200\n",
            "6400/6400 [==============================] - 108s 17ms/step - loss: 0.1068 - acc: 0.9600 - val_loss: 0.1386 - val_acc: 0.9477\n",
            "\n",
            "Epoch 00024: val_acc did not improve from 0.94918\n",
            "Epoch 25/200\n",
            "6400/6400 [==============================] - 108s 17ms/step - loss: 0.1070 - acc: 0.9602 - val_loss: 0.1381 - val_acc: 0.9476\n",
            "\n",
            "Epoch 00025: val_acc did not improve from 0.94918\n",
            "Epoch 26/200\n",
            "6400/6400 [==============================] - 108s 17ms/step - loss: 0.1018 - acc: 0.9628 - val_loss: 0.1557 - val_acc: 0.9478\n",
            "\n",
            "Epoch 00026: val_acc did not improve from 0.94918\n",
            "Epoch 27/200\n",
            "6400/6400 [==============================] - 108s 17ms/step - loss: 0.1043 - acc: 0.9616 - val_loss: 0.1362 - val_acc: 0.9507\n",
            "\n",
            "Epoch 00027: val_acc improved from 0.94918 to 0.95072, saving model to ./unet_best1.model\n",
            "Epoch 28/200\n",
            "6400/6400 [==============================] - 108s 17ms/step - loss: 0.1002 - acc: 0.9623 - val_loss: 0.1434 - val_acc: 0.9502\n",
            "\n",
            "Epoch 00028: val_acc did not improve from 0.95072\n",
            "Epoch 29/200\n",
            "6400/6400 [==============================] - 107s 17ms/step - loss: 0.0992 - acc: 0.9627 - val_loss: 0.1468 - val_acc: 0.9496\n",
            "\n",
            "Epoch 00029: val_acc did not improve from 0.95072\n",
            "Epoch 30/200\n",
            "6400/6400 [==============================] - 108s 17ms/step - loss: 0.0971 - acc: 0.9641 - val_loss: 0.1554 - val_acc: 0.9481\n",
            "\n",
            "Epoch 00030: val_acc did not improve from 0.95072\n",
            "Epoch 31/200\n",
            "6400/6400 [==============================] - 108s 17ms/step - loss: 0.0957 - acc: 0.9642 - val_loss: 0.1501 - val_acc: 0.9506\n",
            "\n",
            "Epoch 00031: val_acc did not improve from 0.95072\n",
            "Epoch 32/200\n",
            "6400/6400 [==============================] - 108s 17ms/step - loss: 0.0970 - acc: 0.9639 - val_loss: 0.1416 - val_acc: 0.9510\n",
            "\n",
            "Epoch 00032: val_acc improved from 0.95072 to 0.95100, saving model to ./unet_best1.model\n",
            "Epoch 33/200\n",
            "6400/6400 [==============================] - 109s 17ms/step - loss: 0.0921 - acc: 0.9663 - val_loss: 0.1537 - val_acc: 0.9478\n",
            "\n",
            "Epoch 00033: val_acc did not improve from 0.95100\n",
            "Epoch 34/200\n",
            "6400/6400 [==============================] - 109s 17ms/step - loss: 0.0945 - acc: 0.9654 - val_loss: 0.1411 - val_acc: 0.9502\n",
            "\n",
            "Epoch 00034: val_acc did not improve from 0.95100\n",
            "Epoch 35/200\n",
            "6400/6400 [==============================] - 109s 17ms/step - loss: 0.0916 - acc: 0.9658 - val_loss: 0.1374 - val_acc: 0.9518\n",
            "\n",
            "Epoch 00035: val_acc improved from 0.95100 to 0.95175, saving model to ./unet_best1.model\n",
            "Epoch 36/200\n",
            "6400/6400 [==============================] - 109s 17ms/step - loss: 0.0949 - acc: 0.9647 - val_loss: 0.1541 - val_acc: 0.9513\n",
            "\n",
            "Epoch 00036: val_acc did not improve from 0.95175\n",
            "Epoch 37/200\n",
            "6400/6400 [==============================] - 109s 17ms/step - loss: 0.0919 - acc: 0.9667 - val_loss: 0.1624 - val_acc: 0.9509\n",
            "\n",
            "Epoch 00037: val_acc did not improve from 0.95175\n",
            "Epoch 38/200\n",
            "6400/6400 [==============================] - 108s 17ms/step - loss: 0.0909 - acc: 0.9673 - val_loss: 0.1468 - val_acc: 0.9502\n",
            "\n",
            "Epoch 00038: val_acc did not improve from 0.95175\n",
            "Epoch 39/200\n",
            "6400/6400 [==============================] - 108s 17ms/step - loss: 0.0908 - acc: 0.9673 - val_loss: 0.1478 - val_acc: 0.9523\n",
            "\n",
            "Epoch 00039: val_acc improved from 0.95175 to 0.95232, saving model to ./unet_best1.model\n",
            "Epoch 40/200\n",
            "6400/6400 [==============================] - 108s 17ms/step - loss: 0.0881 - acc: 0.9678 - val_loss: 0.1609 - val_acc: 0.9481\n",
            "\n",
            "Epoch 00040: val_acc did not improve from 0.95232\n",
            "Epoch 41/200\n",
            "6400/6400 [==============================] - 109s 17ms/step - loss: 0.0884 - acc: 0.9672 - val_loss: 0.1610 - val_acc: 0.9501\n",
            "\n",
            "Epoch 00041: val_acc did not improve from 0.95232\n",
            "Epoch 42/200\n",
            "6400/6400 [==============================] - 109s 17ms/step - loss: 0.0851 - acc: 0.9679 - val_loss: 0.1497 - val_acc: 0.9515\n",
            "\n",
            "Epoch 00042: val_acc did not improve from 0.95232\n",
            "Epoch 43/200\n",
            "6400/6400 [==============================] - 108s 17ms/step - loss: 0.0860 - acc: 0.9680 - val_loss: 0.2164 - val_acc: 0.9467\n",
            "\n",
            "Epoch 00043: val_acc did not improve from 0.95232\n",
            "Epoch 44/200\n",
            "6400/6400 [==============================] - 108s 17ms/step - loss: 0.0853 - acc: 0.9679 - val_loss: 0.1649 - val_acc: 0.9474\n",
            "\n",
            "Epoch 00044: val_acc did not improve from 0.95232\n",
            "\n",
            "Epoch 00044: ReduceLROnPlateau reducing learning rate to 4.0000001899898055e-05.\n",
            "Epoch 45/200\n",
            "6400/6400 [==============================] - 108s 17ms/step - loss: 0.0808 - acc: 0.9701 - val_loss: 0.1647 - val_acc: 0.9489\n",
            "\n",
            "Epoch 00045: val_acc did not improve from 0.95232\n",
            "Epoch 46/200\n",
            "6400/6400 [==============================] - 108s 17ms/step - loss: 0.0797 - acc: 0.9699 - val_loss: 0.1740 - val_acc: 0.9489\n",
            "\n",
            "Epoch 00046: val_acc did not improve from 0.95232\n",
            "Epoch 47/200\n",
            "6400/6400 [==============================] - 108s 17ms/step - loss: 0.0772 - acc: 0.9712 - val_loss: 0.1720 - val_acc: 0.9500\n",
            "\n",
            "Epoch 00047: val_acc did not improve from 0.95232\n",
            "Epoch 48/200\n",
            "6400/6400 [==============================] - 109s 17ms/step - loss: 0.0797 - acc: 0.9708 - val_loss: 0.1684 - val_acc: 0.9500\n",
            "\n",
            "Epoch 00048: val_acc did not improve from 0.95232\n",
            "Epoch 49/200\n",
            "6400/6400 [==============================] - 109s 17ms/step - loss: 0.0774 - acc: 0.9712 - val_loss: 0.1781 - val_acc: 0.9504\n",
            "\n",
            "Epoch 00049: val_acc did not improve from 0.95232\n",
            "\n",
            "Epoch 00049: ReduceLROnPlateau reducing learning rate to 1e-05.\n",
            "Epoch 50/200\n",
            "6400/6400 [==============================] - 108s 17ms/step - loss: 0.0761 - acc: 0.9713 - val_loss: 0.1841 - val_acc: 0.9496\n",
            "\n",
            "Epoch 00050: val_acc did not improve from 0.95232\n",
            "Epoch 51/200\n",
            "6400/6400 [==============================] - 109s 17ms/step - loss: 0.0786 - acc: 0.9713 - val_loss: 0.1806 - val_acc: 0.9496\n",
            "\n",
            "Epoch 00051: val_acc did not improve from 0.95232\n",
            "Epoch 52/200\n",
            "6400/6400 [==============================] - 109s 17ms/step - loss: 0.0755 - acc: 0.9720 - val_loss: 0.1822 - val_acc: 0.9495\n",
            "\n",
            "Epoch 00052: val_acc did not improve from 0.95232\n",
            "Epoch 53/200\n",
            "6400/6400 [==============================] - 109s 17ms/step - loss: 0.0768 - acc: 0.9718 - val_loss: 0.1817 - val_acc: 0.9496\n",
            "\n",
            "Epoch 00053: val_acc did not improve from 0.95232\n",
            "Epoch 54/200\n",
            "6400/6400 [==============================] - 108s 17ms/step - loss: 0.0760 - acc: 0.9716 - val_loss: 0.1842 - val_acc: 0.9489\n",
            "\n",
            "Epoch 00054: val_acc did not improve from 0.95232\n",
            "Epoch 55/200\n",
            "6400/6400 [==============================] - 108s 17ms/step - loss: 0.0758 - acc: 0.9722 - val_loss: 0.1844 - val_acc: 0.9491\n",
            "\n",
            "Epoch 00055: val_acc did not improve from 0.95232\n",
            "Epoch 56/200\n",
            "6400/6400 [==============================] - 108s 17ms/step - loss: 0.0783 - acc: 0.9710 - val_loss: 0.1843 - val_acc: 0.9496\n",
            "\n",
            "Epoch 00056: val_acc did not improve from 0.95232\n",
            "Epoch 57/200\n",
            "6400/6400 [==============================] - 108s 17ms/step - loss: 0.0758 - acc: 0.9720 - val_loss: 0.1853 - val_acc: 0.9496\n",
            "\n",
            "Epoch 00057: val_acc did not improve from 0.95232\n",
            "Epoch 58/200\n",
            "6400/6400 [==============================] - 108s 17ms/step - loss: 0.0759 - acc: 0.9715 - val_loss: 0.1830 - val_acc: 0.9490\n",
            "\n",
            "Epoch 00058: val_acc did not improve from 0.95232\n",
            "Epoch 59/200\n",
            "6400/6400 [==============================] - 109s 17ms/step - loss: 0.0752 - acc: 0.9720 - val_loss: 0.1835 - val_acc: 0.9492\n",
            "\n",
            "Epoch 00059: val_acc did not improve from 0.95232\n",
            "Epoch 00059: early stopping\n"
          ],
          "name": "stdout"
        }
      ]
    },
    {
      "metadata": {
        "id": "amF_LbvaglXd",
        "colab_type": "code",
        "colab": {
          "base_uri": "https://localhost:8080/",
          "height": 294
        },
        "outputId": "73de0802-83a9-4165-b100-0ad94b815cd8"
      },
      "cell_type": "code",
      "source": [
        "import matplotlib.pyplot as plt\n",
        "# summarize history for loss\n",
        "plt.plot(history.history['acc'][1:])\n",
        "plt.plot(history.history['val_acc'][1:])\n",
        "plt.title('model loss')\n",
        "plt.ylabel('loss')\n",
        "plt.xlabel('epoch')\n",
        "plt.legend(['train','Validation'], loc='upper left')\n",
        "plt.show()"
      ],
      "execution_count": 49,
      "outputs": [
        {
          "output_type": "display_data",
          "data": {
            "image/png": "[encoded data removed]",
            "text/plain": [
              "<matplotlib.figure.Figure at 0x7f2b1eabb8d0>"
            ]
          },
          "metadata": {
            "tags": []
          }
        }
      ]
    },
    {
      "metadata": {
        "id": "LeMRSajXg9pI",
        "colab_type": "code",
        "colab": {
          "base_uri": "https://localhost:8080/",
          "height": 341
        },
        "outputId": "f20d1a71-cf17-4a8f-a0d5-c6445f42be69"
      },
      "cell_type": "code",
      "source": [
        "fig, (ax_loss, ax_acc) = plt.subplots(1, 2, figsize=(15,5))\n",
        "ax_loss.plot(history.epoch, history.history[\"loss\"], label=\"Train loss\")\n",
        "ax_loss.plot(history.epoch, history.history[\"val_loss\"], label=\"Validation loss\")"
      ],
      "execution_count": 50,
      "outputs": [
        {
          "output_type": "execute_result",
          "data": {
            "text/plain": [
              "[<matplotlib.lines.Line2D at 0x7f2b169b4550>]"
            ]
          },
          "metadata": {
            "tags": []
          },
          "execution_count": 50
        },
        {
          "output_type": "display_data",
          "data": {
            "image/png": "[encoded data removed]",
            "text/plain": [
              "<matplotlib.figure.Figure at 0x7f2b1eabb630>"
            ]
          },
          "metadata": {
            "tags": []
          }
        }
      ]
    },
    {
      "metadata": {
        "id": "PGfjCYKhQCpT",
        "colab_type": "code",
        "colab": {}
      },
      "cell_type": "code",
      "source": [
        "model = load_model(\"./unet_best1.model\")"
      ],
      "execution_count": 0,
      "outputs": []
    },
    {
      "metadata": {
        "id": "rbSVf5CjQEq0",
        "colab_type": "code",
        "colab": {}
      },
      "cell_type": "code",
      "source": [
        "def predict_result(model,x_test,img_size_target): # predict both orginal and reflect x\n",
        "    preds_test = model.predict(x_test).reshape(-1, img_size_target, img_size_target)\n",
        "    preds_test += np.array([ np.fliplr(a) for a in model.predict(np.array([np.fliplr(x) for x in x_test])).reshape(-1, img_size_target, img_size_target)])\n",
        "    return preds_test/2.0"
      ],
      "execution_count": 0,
      "outputs": []
    },
    {
      "metadata": {
        "id": "oeRGIoHGQIIX",
        "colab_type": "code",
        "colab": {}
      },
      "cell_type": "code",
      "source": [
        "preds_valid = predict_result(model,x_valid,img_size_target)"
      ],
      "execution_count": 0,
      "outputs": []
    },
    {
      "metadata": {
        "id": "w6dzKcI9QJ5f",
        "colab_type": "code",
        "colab": {
          "base_uri": "https://localhost:8080/",
          "height": 34
        },
        "outputId": "cc88e2a3-be91-4aec-d3e4-f186a0806720"
      },
      "cell_type": "code",
      "source": [
        "def filter_image(img):\n",
        "    if img.sum() < 100:\n",
        "        return np.zeros(img.shape)\n",
        "    else:\n",
        "        return img\n",
        "\n",
        "## Scoring for last model\n",
        "thresholds = np.linspace(0.3, 0.7, 31)\n",
        "ious = np.array([iou_metric(y_valid.reshape((-1, img_size_target, img_size_target)), [filter_image(img) for img in preds_valid > threshold]) for threshold in tqdm(thresholds)])"
      ],
      "execution_count": 55,
      "outputs": [
        {
          "output_type": "stream",
          "text": [
            "100%|██████████| 31/31 [00:03<00:00,  7.75it/s]\n"
          ],
          "name": "stderr"
        }
      ]
    },
    {
      "metadata": {
        "id": "RxW4SKiHQNB6",
        "colab_type": "code",
        "colab": {
          "base_uri": "https://localhost:8080/",
          "height": 311
        },
        "outputId": "ff5e0bcb-dd39-435e-876b-ff676162e352"
      },
      "cell_type": "code",
      "source": [
        "threshold_best_index = np.argmax(ious) \n",
        "iou_best = ious[threshold_best_index]\n",
        "threshold_best = thresholds[threshold_best_index]\n",
        "\n",
        "plt.plot(thresholds, ious)\n",
        "plt.plot(threshold_best, iou_best, \"xr\", label=\"Best threshold\")\n",
        "plt.xlabel(\"Threshold\")\n",
        "plt.ylabel(\"IoU\")\n",
        "plt.title(\"Threshold vs IoU ({}, {})\".format(threshold_best, iou_best))\n",
        "plt.legend()"
      ],
      "execution_count": 56,
      "outputs": [
        {
          "output_type": "execute_result",
          "data": {
            "text/plain": [
              "<matplotlib.legend.Legend at 0x7f2b169bfa90>"
            ]
          },
          "metadata": {
            "tags": []
          },
          "execution_count": 56
        },
        {
          "output_type": "display_data",
          "data": {
            "image/png": "[encoded data removed]",
            "text/plain": [
              "<matplotlib.figure.Figure at 0x7f2b19b177f0>"
            ]
          },
          "metadata": {
            "tags": []
          }
        }
      ]
    },
    {
      "metadata": {
        "id": "UXCPuW47QRre",
        "colab_type": "code",
        "colab": {}
      },
      "cell_type": "code",
      "source": [
        "def rle_encode(im):\n",
        "    pixels = im.flatten(order = 'F')\n",
        "    pixels = np.concatenate([[0], pixels, [0]])\n",
        "    runs = np.where(pixels[1:] != pixels[:-1])[0] + 1\n",
        "    runs[1::2] -= runs[::2]\n",
        "    return ' '.join(str(x) for x in runs)"
      ],
      "execution_count": 0,
      "outputs": []
    },
    {
      "metadata": {
        "id": "Z4PikxeiQam_",
        "colab_type": "code",
        "colab": {
          "base_uri": "https://localhost:8080/",
          "height": 34
        },
        "outputId": "879c517d-3cae-4651-8971-0252c617d189"
      },
      "cell_type": "code",
      "source": [
        "import gc\n",
        "\n",
        "del x_train, x_valid, y_train, y_valid, preds_valid\n",
        "gc.collect()"
      ],
      "execution_count": 58,
      "outputs": [
        {
          "output_type": "execute_result",
          "data": {
            "text/plain": [
              "137432"
            ]
          },
          "metadata": {
            "tags": []
          },
          "execution_count": 58
        }
      ]
    },
    {
      "metadata": {
        "id": "UEmYUxS7QcFE",
        "colab_type": "code",
        "colab": {
          "base_uri": "https://localhost:8080/",
          "height": 34
        },
        "outputId": "93831700-d34f-4375-9d1e-9fd26322a3ae"
      },
      "cell_type": "code",
      "source": [
        "x_test = np.array([(np.array(load_img(\"input/test/images/{}.png\".format(idx), grayscale = True))) / 255 for idx in tqdm(test_df.index)]).reshape(-1, img_size_target, img_size_target, 1)\n",
        "\n",
        "preds_test = predict_result(model,x_test,img_size_target)"
      ],
      "execution_count": 61,
      "outputs": [
        {
          "output_type": "stream",
          "text": [
            "100%|██████████| 18000/18000 [00:15<00:00, 1166.50it/s]\n"
          ],
          "name": "stderr"
        }
      ]
    },
    {
      "metadata": {
        "id": "C_sDJivTQewU",
        "colab_type": "code",
        "colab": {
          "base_uri": "https://localhost:8080/",
          "height": 51
        },
        "outputId": "7d394a90-c0ae-4393-dd2f-286baea3e135"
      },
      "cell_type": "code",
      "source": [
        "import time\n",
        "t1 = time.time()\n",
        "pred_dict = {idx: rle_encode(filter_image(preds_test[i] > threshold_best)) for i, idx in enumerate(tqdm(test_df.index.values))}\n",
        "t2 = time.time()\n",
        "\n",
        "print(f\"Usedtime = {t2-t1} s\")"
      ],
      "execution_count": 62,
      "outputs": [
        {
          "output_type": "stream",
          "text": [
            "100%|██████████| 18000/18000 [00:03<00:00, 5794.47it/s]"
          ],
          "name": "stderr"
        },
        {
          "output_type": "stream",
          "text": [
            "Usedtime = 3.1158595085144043 s\n"
          ],
          "name": "stdout"
        },
        {
          "output_type": "stream",
          "text": [
            "\n"
          ],
          "name": "stderr"
        }
      ]
    },
    {
      "metadata": {
        "id": "FZde3CWjQsIS",
        "colab_type": "code",
        "colab": {}
      },
      "cell_type": "code",
      "source": [
        "sub = pd.DataFrame.from_dict(pred_dict,orient='index')\n",
        "sub.index.names = ['id']\n",
        "sub.columns = ['rle_mask']\n",
        "sub.to_csv('submission.csv')"
      ],
      "execution_count": 0,
      "outputs": []
    },
    {
      "metadata": {
        "id": "O8zA7aWTRXO-",
        "colab_type": "code",
        "colab": {}
      },
      "cell_type": "code",
      "source": [
        "from google.colab import files\n",
        "\n",
        "files.download('submission.csv')"
      ],
      "execution_count": 0,
      "outputs": []
    },
    {
      "metadata": {
        "id": "dxHcHRGURZ2G",
        "colab_type": "code",
        "colab": {}
      },
      "cell_type": "code",
      "source": [
        ""
      ],
      "execution_count": 0,
      "outputs": []
    }
  ]
}